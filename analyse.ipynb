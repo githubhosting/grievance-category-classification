{
 "cells": [
  {
   "cell_type": "code",
   "execution_count": 1,
   "id": "initial_id",
   "metadata": {
    "collapsed": true,
    "ExecuteTime": {
     "end_time": "2024-01-21T23:03:11.988797500Z",
     "start_time": "2024-01-21T23:03:11.573635600Z"
    }
   },
   "outputs": [],
   "source": [
    "import pandas as pd"
   ]
  },
  {
   "cell_type": "code",
   "outputs": [],
   "source": [
    "df = pd.read_csv('dataset/Complaint Category.csv')"
   ],
   "metadata": {
    "collapsed": false,
    "ExecuteTime": {
     "end_time": "2024-01-21T23:03:34.598185200Z",
     "start_time": "2024-01-21T23:03:34.568973900Z"
    }
   },
   "id": "9d455e58d5771647",
   "execution_count": 3
  },
  {
   "cell_type": "code",
   "outputs": [
    {
     "data": {
      "text/plain": "   Code         Description OrgCode  Parent  Stage  MonitoringCode\n0     1  Telecommunications   DOTEL     NaN      1           506.0\n1     2      Mobile Related   DOTEL     1.0      2           506.0\n2     3     Pension Related   DOTEL     1.0      2           102.0\n3     4   Broadband Related   DOTEL     1.0      2           506.0\n4     5    Landline Related   DOTEL     1.0      2           506.0",
      "text/html": "<div>\n<style scoped>\n    .dataframe tbody tr th:only-of-type {\n        vertical-align: middle;\n    }\n\n    .dataframe tbody tr th {\n        vertical-align: top;\n    }\n\n    .dataframe thead th {\n        text-align: right;\n    }\n</style>\n<table border=\"1\" class=\"dataframe\">\n  <thead>\n    <tr style=\"text-align: right;\">\n      <th></th>\n      <th>Code</th>\n      <th>Description</th>\n      <th>OrgCode</th>\n      <th>Parent</th>\n      <th>Stage</th>\n      <th>MonitoringCode</th>\n    </tr>\n  </thead>\n  <tbody>\n    <tr>\n      <th>0</th>\n      <td>1</td>\n      <td>Telecommunications</td>\n      <td>DOTEL</td>\n      <td>NaN</td>\n      <td>1</td>\n      <td>506.0</td>\n    </tr>\n    <tr>\n      <th>1</th>\n      <td>2</td>\n      <td>Mobile Related</td>\n      <td>DOTEL</td>\n      <td>1.0</td>\n      <td>2</td>\n      <td>506.0</td>\n    </tr>\n    <tr>\n      <th>2</th>\n      <td>3</td>\n      <td>Pension Related</td>\n      <td>DOTEL</td>\n      <td>1.0</td>\n      <td>2</td>\n      <td>102.0</td>\n    </tr>\n    <tr>\n      <th>3</th>\n      <td>4</td>\n      <td>Broadband Related</td>\n      <td>DOTEL</td>\n      <td>1.0</td>\n      <td>2</td>\n      <td>506.0</td>\n    </tr>\n    <tr>\n      <th>4</th>\n      <td>5</td>\n      <td>Landline Related</td>\n      <td>DOTEL</td>\n      <td>1.0</td>\n      <td>2</td>\n      <td>506.0</td>\n    </tr>\n  </tbody>\n</table>\n</div>"
     },
     "execution_count": 6,
     "metadata": {},
     "output_type": "execute_result"
    }
   ],
   "source": [
    "df.head()"
   ],
   "metadata": {
    "collapsed": false,
    "ExecuteTime": {
     "end_time": "2024-01-21T23:04:39.944171Z",
     "start_time": "2024-01-21T23:04:39.897461400Z"
    }
   },
   "id": "6dfb21886d0abfa",
   "execution_count": 6
  },
  {
   "cell_type": "code",
   "outputs": [
    {
     "data": {
      "text/plain": "array([       nan, 1.0000e+00, 2.0000e+00, ..., 2.6406e+04, 2.6407e+04,\n       2.6408e+04])"
     },
     "execution_count": 19,
     "metadata": {},
     "output_type": "execute_result"
    }
   ],
   "source": [
    "df['Description'].unique()\n",
    "df['Parent']."
   ],
   "metadata": {
    "collapsed": false,
    "ExecuteTime": {
     "end_time": "2024-01-21T23:13:54.341316Z",
     "start_time": "2024-01-21T23:13:54.331013600Z"
    }
   },
   "id": "bc815cc223ba7609",
   "execution_count": 19
  },
  {
   "cell_type": "code",
   "outputs": [],
   "source": [],
   "metadata": {
    "collapsed": false
   },
   "id": "861bd78d20f47040"
  }
 ],
 "metadata": {
  "kernelspec": {
   "display_name": "Python 3",
   "language": "python",
   "name": "python3"
  },
  "language_info": {
   "codemirror_mode": {
    "name": "ipython",
    "version": 2
   },
   "file_extension": ".py",
   "mimetype": "text/x-python",
   "name": "python",
   "nbconvert_exporter": "python",
   "pygments_lexer": "ipython2",
   "version": "2.7.6"
  }
 },
 "nbformat": 4,
 "nbformat_minor": 5
}
