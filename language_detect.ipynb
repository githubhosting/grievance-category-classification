{
 "cells": [
  {
   "cell_type": "code",
   "execution_count": 2,
   "id": "initial_id",
   "metadata": {
    "collapsed": true,
    "ExecuteTime": {
     "end_time": "2024-01-28T08:01:45.834632Z",
     "start_time": "2024-01-28T08:01:44.771919600Z"
    }
   },
   "outputs": [],
   "source": [
    "import pandas as pd\n",
    "import numpy as np\n",
    "\n",
    "df = pd.read_json(\"test/final_dataset.json\")"
   ]
  },
  {
   "cell_type": "code",
   "outputs": [
    {
     "name": "stdout",
     "output_type": "stream",
     "text": [
      "<class 'pandas.core.frame.DataFrame'>\n",
      "Index: 63622 entries, 0 to 63621\n",
      "Data columns (total 7 columns):\n",
      " #   Column                Non-Null Count  Dtype \n",
      "---  ------                --------------  ----- \n",
      " 0   _id                   63622 non-null  object\n",
      " 1   CategoryV7            63622 non-null  int64 \n",
      " 2   remarks_text          53566 non-null  object\n",
      " 3   subject_content_text  63622 non-null  object\n",
      " 4   root_category         63622 non-null  object\n",
      " 5   total_no_of_stages    63622 non-null  int64 \n",
      " 6   hierarchy             63622 non-null  object\n",
      "dtypes: int64(2), object(5)\n",
      "memory usage: 3.9+ MB\n"
     ]
    }
   ],
   "source": [
    "df.info()"
   ],
   "metadata": {
    "collapsed": false,
    "ExecuteTime": {
     "end_time": "2024-01-28T08:01:46.953494900Z",
     "start_time": "2024-01-28T08:01:46.939839300Z"
    }
   },
   "id": "637de626709325cc",
   "execution_count": 3
  },
  {
   "cell_type": "code",
   "outputs": [
    {
     "data": {
      "text/plain": "Detecting language:   0%|          | 0/63622 [00:00<?, ?it/s]",
      "application/vnd.jupyter.widget-view+json": {
       "version_major": 2,
       "version_minor": 0,
       "model_id": "6228291ebdac4ff79fc15f670f164fe4"
      }
     },
     "metadata": {},
     "output_type": "display_data"
    }
   ],
   "source": [
    "import pandas as pd\n",
    "from langdetect import detect, LangDetectException\n",
    "from tqdm.auto import tqdm\n",
    "\n",
    "# Function to detect language, with error handling\n",
    "def detect_language(text):\n",
    "    try:\n",
    "        return detect(text)\n",
    "    except LangDetectException:\n",
    "        return np.nan\n",
    "\n",
    "# tqdm progress bar for pandas apply\n",
    "tqdm.pandas(desc=\"Detecting language\")\n",
    "\n",
    "# Assuming 'subject_content_text' is the column you want to process\n",
    "# Apply the language detection function with progress bar\n",
    "df['lang'] = df['subject_content_text'].progress_apply(detect_language)"
   ],
   "metadata": {
    "collapsed": false,
    "ExecuteTime": {
     "end_time": "2024-01-28T08:06:21.669946400Z",
     "start_time": "2024-01-28T08:01:48.945353100Z"
    }
   },
   "id": "4689203de11af899",
   "execution_count": 4
  },
  {
   "cell_type": "code",
   "outputs": [],
   "source": [
    "# Calculate language value counts\n",
    "lang_counts = df['lang'].value_counts()\n",
    "\n",
    "# Calculate percentage distribution\n",
    "lang_percentage = lang_counts / lang_counts.sum() * 100\n",
    "\n",
    "# Combine counts and percentages into a new DataFrame\n",
    "lang_summary = pd.DataFrame({\n",
    "    'Count': lang_counts,\n",
    "    'Percentage': lang_percentage\n",
    "})\n",
    "\n",
    "# Ensure the 'test' directory exists\n",
    "import os\n",
    "if not os.path.exists('test'):\n",
    "    os.makedirs('test')\n",
    "\n",
    "# Save the combined DataFrame to CSV\n",
    "lang_summary.to_csv('test/lang_summary.csv')"
   ],
   "metadata": {
    "collapsed": false,
    "ExecuteTime": {
     "end_time": "2024-01-28T08:10:30.473616200Z",
     "start_time": "2024-01-28T08:10:30.464076300Z"
    }
   },
   "id": "2f6ea07ba1075fee",
   "execution_count": 10
  },
  {
   "cell_type": "code",
   "outputs": [
    {
     "name": "stderr",
     "output_type": "stream",
     "text": [
      "IOPub data rate exceeded.\n",
      "The Jupyter server will temporarily stop sending output\n",
      "to the client in order to avoid crashing it.\n",
      "To change this limit, set the config variable\n",
      "`--ServerApp.iopub_data_rate_limit`.\n",
      "\n",
      "Current values:\n",
      "ServerApp.iopub_data_rate_limit=1000000.0 (bytes/sec)\n",
      "ServerApp.rate_limit_window=3.0 (secs)\n",
      "\n"
     ]
    }
   ],
   "source": [
    "for i in df[df['lang'] == 'en']['subject_content_text']:\n",
    "    print(i)"
   ],
   "metadata": {
    "collapsed": false,
    "ExecuteTime": {
     "end_time": "2024-01-28T08:17:40.738680300Z",
     "start_time": "2024-01-28T08:17:39.560665300Z"
    }
   },
   "id": "c7207f91d3bd3bbc",
   "execution_count": 20
  }
 ],
 "metadata": {
  "kernelspec": {
   "display_name": "Python 3",
   "language": "python",
   "name": "python3"
  },
  "language_info": {
   "codemirror_mode": {
    "name": "ipython",
    "version": 2
   },
   "file_extension": ".py",
   "mimetype": "text/x-python",
   "name": "python",
   "nbconvert_exporter": "python",
   "pygments_lexer": "ipython2",
   "version": "2.7.6"
  }
 },
 "nbformat": 4,
 "nbformat_minor": 5
}
