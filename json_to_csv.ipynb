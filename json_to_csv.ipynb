{
 "cells": [
  {
   "cell_type": "code",
   "execution_count": 15,
   "id": "initial_id",
   "metadata": {
    "collapsed": true,
    "ExecuteTime": {
     "end_time": "2024-01-27T16:53:21.528577400Z",
     "start_time": "2024-01-27T16:53:21.506653700Z"
    }
   },
   "outputs": [
    {
     "data": {
      "text/plain": "   CategoryV7                                       remarks_text  \\\n0       11578    As per railway record,  there is no authoriz...   \n1        2369   Sir/Madam, With reference to Grievance no. XO...   \n2        2379   Please submit establishment clarification let...   \n3       20493   Son is eligible for dependent CSD Smart Card ...   \n4        5270   S.P/kkLR.No.P3//22 Dated 04.01.2023 மனுதாரர் ...   \n\n                                subject_content_text     root_category_name  \\\n0  Railways, ( Railway Board) >> Miscellaneous\\r\\...                Railway   \n1  Labour and Employment >> PF Withdrawal >> Othe...  Labour and Employment   \n2  Labour and Employment >> Pension >> Others\\r\\n...  Labour and Employment   \n3  Defence >> Canteen Stores Depot related >> Non...  Department of Defence   \n4  Justice >> Others\\r\\n-----------------------\\r...  Department of Justice   \n\n   root_category_code  total_no_of_stages  \\\n0                2565                   2   \n1                2173                   3   \n2                2173                   3   \n3                6300                   3   \n4                5256                   2   \n\n                                     hierarchy_order category_hierarchy_code  \n0                           [Railway, Miscellaneous]           [2565, 11578]  \n1     [Labour and Employment, PF Withdrawal, Others]      [2173, 2343, 2369]  \n2           [Labour and Employment, Pension, Others]      [2173, 2344, 2379]  \n3  [Department of Defence, Canteen Stores Depot r...     [6300, 6304, 20493]  \n4                    [Department of Justice, Others]            [5256, 5270]  ",
      "text/html": "<div>\n<style scoped>\n    .dataframe tbody tr th:only-of-type {\n        vertical-align: middle;\n    }\n\n    .dataframe tbody tr th {\n        vertical-align: top;\n    }\n\n    .dataframe thead th {\n        text-align: right;\n    }\n</style>\n<table border=\"1\" class=\"dataframe\">\n  <thead>\n    <tr style=\"text-align: right;\">\n      <th></th>\n      <th>CategoryV7</th>\n      <th>remarks_text</th>\n      <th>subject_content_text</th>\n      <th>root_category_name</th>\n      <th>root_category_code</th>\n      <th>total_no_of_stages</th>\n      <th>hierarchy_order</th>\n      <th>category_hierarchy_code</th>\n    </tr>\n  </thead>\n  <tbody>\n    <tr>\n      <th>0</th>\n      <td>11578</td>\n      <td>As per railway record,  there is no authoriz...</td>\n      <td>Railways, ( Railway Board) &gt;&gt; Miscellaneous\\r\\...</td>\n      <td>Railway</td>\n      <td>2565</td>\n      <td>2</td>\n      <td>[Railway, Miscellaneous]</td>\n      <td>[2565, 11578]</td>\n    </tr>\n    <tr>\n      <th>1</th>\n      <td>2369</td>\n      <td>Sir/Madam, With reference to Grievance no. XO...</td>\n      <td>Labour and Employment &gt;&gt; PF Withdrawal &gt;&gt; Othe...</td>\n      <td>Labour and Employment</td>\n      <td>2173</td>\n      <td>3</td>\n      <td>[Labour and Employment, PF Withdrawal, Others]</td>\n      <td>[2173, 2343, 2369]</td>\n    </tr>\n    <tr>\n      <th>2</th>\n      <td>2379</td>\n      <td>Please submit establishment clarification let...</td>\n      <td>Labour and Employment &gt;&gt; Pension &gt;&gt; Others\\r\\n...</td>\n      <td>Labour and Employment</td>\n      <td>2173</td>\n      <td>3</td>\n      <td>[Labour and Employment, Pension, Others]</td>\n      <td>[2173, 2344, 2379]</td>\n    </tr>\n    <tr>\n      <th>3</th>\n      <td>20493</td>\n      <td>Son is eligible for dependent CSD Smart Card ...</td>\n      <td>Defence &gt;&gt; Canteen Stores Depot related &gt;&gt; Non...</td>\n      <td>Department of Defence</td>\n      <td>6300</td>\n      <td>3</td>\n      <td>[Department of Defence, Canteen Stores Depot r...</td>\n      <td>[6300, 6304, 20493]</td>\n    </tr>\n    <tr>\n      <th>4</th>\n      <td>5270</td>\n      <td>S.P/kkLR.No.P3//22 Dated 04.01.2023 மனுதாரர் ...</td>\n      <td>Justice &gt;&gt; Others\\r\\n-----------------------\\r...</td>\n      <td>Department of Justice</td>\n      <td>5256</td>\n      <td>2</td>\n      <td>[Department of Justice, Others]</td>\n      <td>[5256, 5270]</td>\n    </tr>\n  </tbody>\n</table>\n</div>"
     },
     "execution_count": 15,
     "metadata": {},
     "output_type": "execute_result"
    }
   ],
   "source": [
    "import json\n",
    "import pandas as pd\n",
    "\n",
    "file_path = \"sample/sample_dataset.json\"\n",
    "df = pd.read_json(file_path)\n",
    "df.head()"
   ]
  }
 ],
 "metadata": {
  "kernelspec": {
   "display_name": "Python 3",
   "language": "python",
   "name": "python3"
  },
  "language_info": {
   "codemirror_mode": {
    "name": "ipython",
    "version": 2
   },
   "file_extension": ".py",
   "mimetype": "text/x-python",
   "name": "python",
   "nbconvert_exporter": "python",
   "pygments_lexer": "ipython2",
   "version": "2.7.6"
  }
 },
 "nbformat": 4,
 "nbformat_minor": 5
}
