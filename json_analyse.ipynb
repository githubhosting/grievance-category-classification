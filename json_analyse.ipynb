{
 "cells": [
  {
   "cell_type": "code",
   "execution_count": 1,
   "id": "initial_id",
   "metadata": {
    "collapsed": true,
    "ExecuteTime": {
     "end_time": "2024-01-22T08:51:13.749425800Z",
     "start_time": "2024-01-22T08:51:06.535363600Z"
    }
   },
   "outputs": [],
   "source": [
    "import pandas as pd\n",
    "import matplotlib.pyplot as plt\n",
    "import seaborn as sns\n",
    "\n",
    "# Load the data\n",
    "# Replace 'your_file_path.json' with the path to your JSON file\n",
    "df = pd.read_json('dataset/no_pii_grievance.json')"
   ]
  },
  {
   "cell_type": "code",
   "outputs": [
    {
     "name": "stdout",
     "output_type": "stream",
     "text": [
      "<class 'pandas.core.frame.DataFrame'>\n",
      "Index: 175784 entries, 0 to 175783\n",
      "Data columns (total 16 columns):\n",
      " #   Column                Non-Null Count   Dtype  \n",
      "---  ------                --------------   -----  \n",
      " 0   _id                   175784 non-null  object \n",
      " 1   CategoryV7            63622 non-null   float64\n",
      " 2   DiaryDate             175784 non-null  object \n",
      " 3   UserCode              98097 non-null   float64\n",
      " 4   closing_date          162365 non-null  object \n",
      " 5   dist_name             122808 non-null  object \n",
      " 6   org_code              175401 non-null  object \n",
      " 7   pincode               161502 non-null  object \n",
      " 8   recvd_date            175784 non-null  object \n",
      " 9   registration_no       175784 non-null  object \n",
      " 10  remarks_text          106904 non-null  object \n",
      " 11  resolution_date       106904 non-null  object \n",
      " 12  sex                   175784 non-null  object \n",
      " 13  state                 175521 non-null  object \n",
      " 14  subject_content_text  175784 non-null  object \n",
      " 15  v7_target             56663 non-null   object \n",
      "dtypes: float64(2), object(14)\n",
      "memory usage: 22.8+ MB\n"
     ]
    }
   ],
   "source": [
    "df.info()"
   ],
   "metadata": {
    "collapsed": false,
    "ExecuteTime": {
     "end_time": "2024-01-22T08:51:26.099863200Z",
     "start_time": "2024-01-22T08:51:25.848599100Z"
    }
   },
   "id": "e2f4a82f4ef6fe41",
   "execution_count": 2
  }
 ],
 "metadata": {
  "kernelspec": {
   "display_name": "Python 3",
   "language": "python",
   "name": "python3"
  },
  "language_info": {
   "codemirror_mode": {
    "name": "ipython",
    "version": 2
   },
   "file_extension": ".py",
   "mimetype": "text/x-python",
   "name": "python",
   "nbconvert_exporter": "python",
   "pygments_lexer": "ipython2",
   "version": "2.7.6"
  }
 },
 "nbformat": 4,
 "nbformat_minor": 5
}
