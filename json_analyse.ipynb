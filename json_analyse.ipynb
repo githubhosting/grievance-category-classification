{
 "cells": [
  {
   "cell_type": "code",
   "execution_count": 25,
   "id": "initial_id",
   "metadata": {
    "collapsed": true,
    "ExecuteTime": {
     "end_time": "2024-01-26T09:40:08.979052800Z",
     "start_time": "2024-01-26T09:39:18.959671500Z"
    }
   },
   "outputs": [],
   "source": [
    "import pandas as pd\n",
    "import matplotlib.pyplot as plt\n",
    "import seaborn as sns\n",
    "\n",
    "df = pd.read_json('dataset/no_pii_grievance.json')"
   ]
  },
  {
   "cell_type": "code",
   "outputs": [
    {
     "name": "stdout",
     "output_type": "stream",
     "text": [
      "<class 'pandas.core.frame.DataFrame'>\n",
      "Index: 175784 entries, 0 to 175783\n",
      "Data columns (total 16 columns):\n",
      " #   Column                Non-Null Count   Dtype  \n",
      "---  ------                --------------   -----  \n",
      " 0   _id                   175784 non-null  object \n",
      " 1   CategoryV7            63622 non-null   float64\n",
      " 2   DiaryDate             175784 non-null  object \n",
      " 3   UserCode              98097 non-null   float64\n",
      " 4   closing_date          162365 non-null  object \n",
      " 5   dist_name             122808 non-null  object \n",
      " 6   org_code              175401 non-null  object \n",
      " 7   pincode               161502 non-null  object \n",
      " 8   recvd_date            175784 non-null  object \n",
      " 9   registration_no       175784 non-null  object \n",
      " 10  remarks_text          106904 non-null  object \n",
      " 11  resolution_date       106904 non-null  object \n",
      " 12  sex                   175784 non-null  object \n",
      " 13  state                 175521 non-null  object \n",
      " 14  subject_content_text  175784 non-null  object \n",
      " 15  v7_target             56663 non-null   object \n",
      "dtypes: float64(2), object(14)\n",
      "memory usage: 22.8+ MB\n"
     ]
    }
   ],
   "source": [
    "df.info()"
   ],
   "metadata": {
    "collapsed": false,
    "ExecuteTime": {
     "end_time": "2024-01-26T09:40:20.484179500Z",
     "start_time": "2024-01-26T09:40:20.195023300Z"
    }
   },
   "id": "e2f4a82f4ef6fe41",
   "execution_count": 26
  },
  {
   "cell_type": "code",
   "outputs": [
    {
     "name": "stdout",
     "output_type": "stream",
     "text": [
      "<class 'pandas.core.frame.DataFrame'>\n",
      "RangeIndex: 19853 entries, 0 to 19852\n",
      "Data columns (total 6 columns):\n",
      " #   Column          Non-Null Count  Dtype  \n",
      "---  ------          --------------  -----  \n",
      " 0   Code            19853 non-null  int64  \n",
      " 1   Description     19853 non-null  object \n",
      " 2   OrgCode         19853 non-null  object \n",
      " 3   Parent          19762 non-null  float64\n",
      " 4   Stage           19853 non-null  int64  \n",
      " 5   MonitoringCode  16382 non-null  float64\n",
      "dtypes: float64(2), int64(2), object(2)\n",
      "memory usage: 930.7+ KB\n"
     ]
    }
   ],
   "source": [
    "data = pd.read_csv('dataset/Complaint Category.csv')\n",
    "data.info()"
   ],
   "metadata": {
    "collapsed": false,
    "ExecuteTime": {
     "end_time": "2024-01-26T09:42:45.778776200Z",
     "start_time": "2024-01-26T09:42:45.733724700Z"
    }
   },
   "id": "7433d6aef16c53ef",
   "execution_count": 28
  },
  {
   "cell_type": "code",
   "outputs": [
    {
     "data": {
      "text/plain": "                    _id  CategoryV7                              DiaryDate  \\\n0  MORLY/E/2023/0000001     11578.0  {'$date': '2023-01-01T00:00:19.977Z'}   \n1  GOVUP/E/2023/0000001         NaN   {'$date': '2023-01-01T00:01:29.78Z'}   \n2  MOLBR/E/2023/0000001      2369.0  {'$date': '2023-01-01T00:01:45.593Z'}   \n3  MOLBR/E/2023/0000002      2379.0  {'$date': '2023-01-01T00:02:07.247Z'}   \n4  GOVUP/E/2023/0000002         NaN  {'$date': '2023-01-01T00:02:25.663Z'}   \n5  GOVUP/E/2023/0000003         NaN   {'$date': '2023-01-01T00:03:02.52Z'}   \n6  MODEF/E/2023/0000001     20493.0    {'$date': '2023-01-01T00:04:02.5Z'}   \n7  DEPOJ/E/2023/0000002      5270.0   {'$date': '2023-01-01T00:04:11.57Z'}   \n8  MEAPD/E/2023/0000001      1441.0   {'$date': '2023-01-01T00:04:30.55Z'}   \n9  DORLD/E/2023/0000001      5073.0    {'$date': '2023-01-01T00:05:15.5Z'}   \n\n    UserCode                       closing_date                   dist_name  \\\n0   110124.0  {'$date': '2023-01-04T00:00:00Z'}           North 24 Parganas   \n1    45427.0  {'$date': '2023-01-24T00:00:00Z'}                         NaN   \n2  1356254.0  {'$date': '2023-01-12T00:00:00Z'}                   Hyderabad   \n3  1092136.0  {'$date': '2023-01-06T00:00:00Z'}                      Nagpur   \n4    45427.0  {'$date': '2023-01-24T00:00:00Z'}                         NaN   \n5    45427.0  {'$date': '2023-01-24T00:00:00Z'}                         NaN   \n6   408844.0  {'$date': '2023-01-03T00:00:00Z'}                       Jammu   \n7   951216.0  {'$date': '2023-01-04T00:00:00Z'}                 Kanyakumari   \n8   711170.0  {'$date': '2023-01-09T00:00:00Z'}  Bhupalpally  (Jayashankar)   \n9    20318.0                               None                   Kandhamal   \n\n  org_code pincode                             recvd_date  \\\n0    MORLY  700130  {'$date': '2023-01-01T00:00:19.977Z'}   \n1    GOVUP  203001  {'$date': '2023-01-01T00:01:28.567Z'}   \n2    MOLBR  500023  {'$date': '2023-01-01T00:01:45.593Z'}   \n3    MOLBR  440001  {'$date': '2023-01-01T00:02:07.247Z'}   \n4    GOVUP  203001  {'$date': '2023-01-01T00:02:24.913Z'}   \n5    GOVUP  203001   {'$date': '2023-01-01T00:03:01.79Z'}   \n6    MODEF  181205    {'$date': '2023-01-01T00:04:02.5Z'}   \n7    DEPOJ  629702   {'$date': '2023-01-01T00:04:11.57Z'}   \n8    MEAPD  505184   {'$date': '2023-01-01T00:04:30.55Z'}   \n9    DORLD  762022    {'$date': '2023-01-01T00:05:15.5Z'}   \n\n        registration_no                                       remarks_text  \\\n0  MORLY/E/2023/0000001    As per railway record,  there is no authoriz...   \n1  GOVUP/E/2023/0000001                                                NaN   \n2  MOLBR/E/2023/0000001   Sir/Madam, With reference to Grievance no. XO...   \n3  MOLBR/E/2023/0000002   Please submit establishment clarification let...   \n4  GOVUP/E/2023/0000002                                                NaN   \n5  GOVUP/E/2023/0000003                                                NaN   \n6  MODEF/E/2023/0000001   Son is eligible for dependent CSD Smart Card ...   \n7  DEPOJ/E/2023/0000002   S.P/kkLR.No.P3//22 Dated 04.01.2023 மனுதாரர் ...   \n8  MEAPD/E/2023/0000001  As per the HCI, Wellington, the service sough ...   \n9  DORLD/E/2023/0000001   ग्रामीण सड़क राज्य सरकार का विषय है और राज्य ...   \n\n                     resolution_date sex state  \\\n0  {'$date': '2023-01-04T00:00:00Z'}   M    WB   \n1                                NaN   M    UP   \n2  {'$date': '2023-01-12T00:00:00Z'}   M    TG   \n3  {'$date': '2023-01-06T00:00:00Z'}   M    MH   \n4                                NaN   M    UP   \n5                                NaN   M    UP   \n6  {'$date': '2023-01-03T00:00:00Z'}   F    JK   \n7  {'$date': '2023-01-04T00:00:00Z'}   M    TN   \n8  {'$date': '2023-01-09T00:00:00Z'}   M    TG   \n9  {'$date': '2023-01-31T00:00:00Z'}   M    OR   \n\n                                subject_content_text v7_target  \\\n0  Railways, ( Railway Board) >> Miscellaneous\\r\\...        No   \n1  XAXPX/X/X0X2X4X0X0\\tREGARDING CBCID INSPECTION...       NaN   \n2  Labour and Employment >> PF Withdrawal >> Othe...        No   \n3  Labour and Employment >> Pension >> Others\\r\\n...        No   \n4  XAXPX/X/X0X2X4X0X8\\tREGARDING CBCID INSPECTION...       NaN   \n5  XAXPX/X/X0X2X4X0X7\\tREGARDING CBCID INSPECTION...       NaN   \n6  Defence >> Canteen Stores Depot related >> Non...       Yes   \n7  Justice >> Others\\r\\n-----------------------\\r...       Yes   \n8  External Affairs >> Others\\r\\n----------------...       Yes   \n9  Rural Development >> Pradhan Mantri Gram Sadak...       Yes   \n\n      root_category_name  root_category_code  \n0                Railway              2565.0  \n1                    NaN                 NaN  \n2  Labour and Employment              2173.0  \n3  Labour and Employment              2173.0  \n4                    NaN                 NaN  \n5                    NaN                 NaN  \n6  Department of Defence              6300.0  \n7  Department of Justice              5256.0  \n8       External Affairs              1221.0  \n9      Rural Development              4976.0  ",
      "text/html": "<div>\n<style scoped>\n    .dataframe tbody tr th:only-of-type {\n        vertical-align: middle;\n    }\n\n    .dataframe tbody tr th {\n        vertical-align: top;\n    }\n\n    .dataframe thead th {\n        text-align: right;\n    }\n</style>\n<table border=\"1\" class=\"dataframe\">\n  <thead>\n    <tr style=\"text-align: right;\">\n      <th></th>\n      <th>_id</th>\n      <th>CategoryV7</th>\n      <th>DiaryDate</th>\n      <th>UserCode</th>\n      <th>closing_date</th>\n      <th>dist_name</th>\n      <th>org_code</th>\n      <th>pincode</th>\n      <th>recvd_date</th>\n      <th>registration_no</th>\n      <th>remarks_text</th>\n      <th>resolution_date</th>\n      <th>sex</th>\n      <th>state</th>\n      <th>subject_content_text</th>\n      <th>v7_target</th>\n      <th>root_category_name</th>\n      <th>root_category_code</th>\n    </tr>\n  </thead>\n  <tbody>\n    <tr>\n      <th>0</th>\n      <td>MORLY/E/2023/0000001</td>\n      <td>11578.0</td>\n      <td>{'$date': '2023-01-01T00:00:19.977Z'}</td>\n      <td>110124.0</td>\n      <td>{'$date': '2023-01-04T00:00:00Z'}</td>\n      <td>North 24 Parganas</td>\n      <td>MORLY</td>\n      <td>700130</td>\n      <td>{'$date': '2023-01-01T00:00:19.977Z'}</td>\n      <td>MORLY/E/2023/0000001</td>\n      <td>As per railway record,  there is no authoriz...</td>\n      <td>{'$date': '2023-01-04T00:00:00Z'}</td>\n      <td>M</td>\n      <td>WB</td>\n      <td>Railways, ( Railway Board) &gt;&gt; Miscellaneous\\r\\...</td>\n      <td>No</td>\n      <td>Railway</td>\n      <td>2565.0</td>\n    </tr>\n    <tr>\n      <th>1</th>\n      <td>GOVUP/E/2023/0000001</td>\n      <td>NaN</td>\n      <td>{'$date': '2023-01-01T00:01:29.78Z'}</td>\n      <td>45427.0</td>\n      <td>{'$date': '2023-01-24T00:00:00Z'}</td>\n      <td>NaN</td>\n      <td>GOVUP</td>\n      <td>203001</td>\n      <td>{'$date': '2023-01-01T00:01:28.567Z'}</td>\n      <td>GOVUP/E/2023/0000001</td>\n      <td>NaN</td>\n      <td>NaN</td>\n      <td>M</td>\n      <td>UP</td>\n      <td>XAXPX/X/X0X2X4X0X0\\tREGARDING CBCID INSPECTION...</td>\n      <td>NaN</td>\n      <td>NaN</td>\n      <td>NaN</td>\n    </tr>\n    <tr>\n      <th>2</th>\n      <td>MOLBR/E/2023/0000001</td>\n      <td>2369.0</td>\n      <td>{'$date': '2023-01-01T00:01:45.593Z'}</td>\n      <td>1356254.0</td>\n      <td>{'$date': '2023-01-12T00:00:00Z'}</td>\n      <td>Hyderabad</td>\n      <td>MOLBR</td>\n      <td>500023</td>\n      <td>{'$date': '2023-01-01T00:01:45.593Z'}</td>\n      <td>MOLBR/E/2023/0000001</td>\n      <td>Sir/Madam, With reference to Grievance no. XO...</td>\n      <td>{'$date': '2023-01-12T00:00:00Z'}</td>\n      <td>M</td>\n      <td>TG</td>\n      <td>Labour and Employment &gt;&gt; PF Withdrawal &gt;&gt; Othe...</td>\n      <td>No</td>\n      <td>Labour and Employment</td>\n      <td>2173.0</td>\n    </tr>\n    <tr>\n      <th>3</th>\n      <td>MOLBR/E/2023/0000002</td>\n      <td>2379.0</td>\n      <td>{'$date': '2023-01-01T00:02:07.247Z'}</td>\n      <td>1092136.0</td>\n      <td>{'$date': '2023-01-06T00:00:00Z'}</td>\n      <td>Nagpur</td>\n      <td>MOLBR</td>\n      <td>440001</td>\n      <td>{'$date': '2023-01-01T00:02:07.247Z'}</td>\n      <td>MOLBR/E/2023/0000002</td>\n      <td>Please submit establishment clarification let...</td>\n      <td>{'$date': '2023-01-06T00:00:00Z'}</td>\n      <td>M</td>\n      <td>MH</td>\n      <td>Labour and Employment &gt;&gt; Pension &gt;&gt; Others\\r\\n...</td>\n      <td>No</td>\n      <td>Labour and Employment</td>\n      <td>2173.0</td>\n    </tr>\n    <tr>\n      <th>4</th>\n      <td>GOVUP/E/2023/0000002</td>\n      <td>NaN</td>\n      <td>{'$date': '2023-01-01T00:02:25.663Z'}</td>\n      <td>45427.0</td>\n      <td>{'$date': '2023-01-24T00:00:00Z'}</td>\n      <td>NaN</td>\n      <td>GOVUP</td>\n      <td>203001</td>\n      <td>{'$date': '2023-01-01T00:02:24.913Z'}</td>\n      <td>GOVUP/E/2023/0000002</td>\n      <td>NaN</td>\n      <td>NaN</td>\n      <td>M</td>\n      <td>UP</td>\n      <td>XAXPX/X/X0X2X4X0X8\\tREGARDING CBCID INSPECTION...</td>\n      <td>NaN</td>\n      <td>NaN</td>\n      <td>NaN</td>\n    </tr>\n    <tr>\n      <th>5</th>\n      <td>GOVUP/E/2023/0000003</td>\n      <td>NaN</td>\n      <td>{'$date': '2023-01-01T00:03:02.52Z'}</td>\n      <td>45427.0</td>\n      <td>{'$date': '2023-01-24T00:00:00Z'}</td>\n      <td>NaN</td>\n      <td>GOVUP</td>\n      <td>203001</td>\n      <td>{'$date': '2023-01-01T00:03:01.79Z'}</td>\n      <td>GOVUP/E/2023/0000003</td>\n      <td>NaN</td>\n      <td>NaN</td>\n      <td>M</td>\n      <td>UP</td>\n      <td>XAXPX/X/X0X2X4X0X7\\tREGARDING CBCID INSPECTION...</td>\n      <td>NaN</td>\n      <td>NaN</td>\n      <td>NaN</td>\n    </tr>\n    <tr>\n      <th>6</th>\n      <td>MODEF/E/2023/0000001</td>\n      <td>20493.0</td>\n      <td>{'$date': '2023-01-01T00:04:02.5Z'}</td>\n      <td>408844.0</td>\n      <td>{'$date': '2023-01-03T00:00:00Z'}</td>\n      <td>Jammu</td>\n      <td>MODEF</td>\n      <td>181205</td>\n      <td>{'$date': '2023-01-01T00:04:02.5Z'}</td>\n      <td>MODEF/E/2023/0000001</td>\n      <td>Son is eligible for dependent CSD Smart Card ...</td>\n      <td>{'$date': '2023-01-03T00:00:00Z'}</td>\n      <td>F</td>\n      <td>JK</td>\n      <td>Defence &gt;&gt; Canteen Stores Depot related &gt;&gt; Non...</td>\n      <td>Yes</td>\n      <td>Department of Defence</td>\n      <td>6300.0</td>\n    </tr>\n    <tr>\n      <th>7</th>\n      <td>DEPOJ/E/2023/0000002</td>\n      <td>5270.0</td>\n      <td>{'$date': '2023-01-01T00:04:11.57Z'}</td>\n      <td>951216.0</td>\n      <td>{'$date': '2023-01-04T00:00:00Z'}</td>\n      <td>Kanyakumari</td>\n      <td>DEPOJ</td>\n      <td>629702</td>\n      <td>{'$date': '2023-01-01T00:04:11.57Z'}</td>\n      <td>DEPOJ/E/2023/0000002</td>\n      <td>S.P/kkLR.No.P3//22 Dated 04.01.2023 மனுதாரர் ...</td>\n      <td>{'$date': '2023-01-04T00:00:00Z'}</td>\n      <td>M</td>\n      <td>TN</td>\n      <td>Justice &gt;&gt; Others\\r\\n-----------------------\\r...</td>\n      <td>Yes</td>\n      <td>Department of Justice</td>\n      <td>5256.0</td>\n    </tr>\n    <tr>\n      <th>8</th>\n      <td>MEAPD/E/2023/0000001</td>\n      <td>1441.0</td>\n      <td>{'$date': '2023-01-01T00:04:30.55Z'}</td>\n      <td>711170.0</td>\n      <td>{'$date': '2023-01-09T00:00:00Z'}</td>\n      <td>Bhupalpally  (Jayashankar)</td>\n      <td>MEAPD</td>\n      <td>505184</td>\n      <td>{'$date': '2023-01-01T00:04:30.55Z'}</td>\n      <td>MEAPD/E/2023/0000001</td>\n      <td>As per the HCI, Wellington, the service sough ...</td>\n      <td>{'$date': '2023-01-09T00:00:00Z'}</td>\n      <td>M</td>\n      <td>TG</td>\n      <td>External Affairs &gt;&gt; Others\\r\\n----------------...</td>\n      <td>Yes</td>\n      <td>External Affairs</td>\n      <td>1221.0</td>\n    </tr>\n    <tr>\n      <th>9</th>\n      <td>DORLD/E/2023/0000001</td>\n      <td>5073.0</td>\n      <td>{'$date': '2023-01-01T00:05:15.5Z'}</td>\n      <td>20318.0</td>\n      <td>None</td>\n      <td>Kandhamal</td>\n      <td>DORLD</td>\n      <td>762022</td>\n      <td>{'$date': '2023-01-01T00:05:15.5Z'}</td>\n      <td>DORLD/E/2023/0000001</td>\n      <td>ग्रामीण सड़क राज्य सरकार का विषय है और राज्य ...</td>\n      <td>{'$date': '2023-01-31T00:00:00Z'}</td>\n      <td>M</td>\n      <td>OR</td>\n      <td>Rural Development &gt;&gt; Pradhan Mantri Gram Sadak...</td>\n      <td>Yes</td>\n      <td>Rural Development</td>\n      <td>4976.0</td>\n    </tr>\n  </tbody>\n</table>\n</div>"
     },
     "execution_count": 36,
     "metadata": {},
     "output_type": "execute_result"
    }
   ],
   "source": [
    "import pandas as pd\n",
    "import numpy as np\n",
    "\n",
    "df = pd.read_json('dataset/no_pii_grievance.json')\n",
    "data = pd.read_csv('dataset/Complaint Category.csv')\n",
    "\n",
    "# Create a dictionary to store parent-child relationships\n",
    "parent_dict = dict(zip(data['Code'], data['Parent']))\n",
    "\n",
    "# Create a dictionary to store code-description relationships\n",
    "description_dict = dict(zip(data['Code'], data['Description']))\n",
    "\n",
    "def find_root_node(code):\n",
    "    try:\n",
    "        current_code = code\n",
    "\n",
    "        while current_code in parent_dict and not pd.isna(parent_dict[current_code]):\n",
    "            current_code = parent_dict[current_code]\n",
    "\n",
    "        return current_code\n",
    "    except Exception as e:\n",
    "        return f\"Error: {e}\"\n",
    "\n",
    "def apply_root_category(row):\n",
    "    if pd.isna(row['CategoryV7']):\n",
    "        return np.nan\n",
    "    else:\n",
    "        root_node = find_root_node(row['CategoryV7'])\n",
    "        return root_node if not isinstance(root_node, str) or not root_node.startswith(\"Error\") else np.nan\n",
    "\n",
    "def apply_root_category_description(row):\n",
    "    if pd.isna(row['CategoryV7']):\n",
    "        return np.nan\n",
    "    else:\n",
    "        root_description = description_dict.get(find_root_node(row['CategoryV7']), np.nan)\n",
    "        return root_description if not isinstance(root_description, str) or not root_description.startswith(\"Error\") else np.nan\n",
    "\n",
    "# Apply the functions to the dataframe\n",
    "df_subset = df.copy()\n",
    "df_subset['root_category_name'] = df_subset.apply(apply_root_category_description, axis=1)\n",
    "df_subset['root_category_code'] = df_subset.apply(apply_root_category, axis=1)\n",
    "df_subset.head(10)"
   ],
   "metadata": {
    "collapsed": false,
    "ExecuteTime": {
     "end_time": "2024-01-26T10:21:43.879496400Z",
     "start_time": "2024-01-26T10:21:38.262979800Z"
    }
   },
   "id": "d67275c8dc87bc84",
   "execution_count": 36
  },
  {
   "cell_type": "code",
   "outputs": [
    {
     "name": "stdout",
     "output_type": "stream",
     "text": [
      "<class 'pandas.core.frame.DataFrame'>\n",
      "Index: 175784 entries, 0 to 175783\n",
      "Data columns (total 18 columns):\n",
      " #   Column                Non-Null Count   Dtype  \n",
      "---  ------                --------------   -----  \n",
      " 0   _id                   175784 non-null  object \n",
      " 1   CategoryV7            63622 non-null   float64\n",
      " 2   DiaryDate             175784 non-null  object \n",
      " 3   UserCode              98097 non-null   float64\n",
      " 4   closing_date          162365 non-null  object \n",
      " 5   dist_name             122808 non-null  object \n",
      " 6   org_code              175401 non-null  object \n",
      " 7   pincode               161502 non-null  object \n",
      " 8   recvd_date            175784 non-null  object \n",
      " 9   registration_no       175784 non-null  object \n",
      " 10  remarks_text          106904 non-null  object \n",
      " 11  resolution_date       106904 non-null  object \n",
      " 12  sex                   175784 non-null  object \n",
      " 13  state                 175521 non-null  object \n",
      " 14  subject_content_text  175784 non-null  object \n",
      " 15  v7_target             56663 non-null   object \n",
      " 16  root_category_name    63622 non-null   object \n",
      " 17  root_category_code    63622 non-null   float64\n",
      "dtypes: float64(3), object(15)\n",
      "memory usage: 25.5+ MB\n"
     ]
    }
   ],
   "source": [
    "df_subset.info()"
   ],
   "metadata": {
    "collapsed": false,
    "ExecuteTime": {
     "end_time": "2024-01-26T10:22:09.573706200Z",
     "start_time": "2024-01-26T10:22:09.298630Z"
    }
   },
   "id": "a49381cb4417e4d9",
   "execution_count": 37
  },
  {
   "cell_type": "code",
   "outputs": [],
   "source": [
    "columns_to_select = ['CategoryV7', 'remarks_text', 'subject_content_text', 'root_category_name', 'root_category_code']\n",
    "existing_columns = [col for col in columns_to_select if col in df_subset.columns]\n",
    "\n",
    "# Create a new DataFrame with non-null values of CategoryV7 and selected columns\n",
    "new_dataset = df_subset.dropna(subset=['CategoryV7'], how='any', inplace=False)[existing_columns]\n",
    "json_filename = 'test/root_category_dataset.json'\n",
    "new_dataset.to_json(json_filename, orient='records', lines=False, default_handler=str, indent=2)"
   ],
   "metadata": {
    "collapsed": false,
    "ExecuteTime": {
     "end_time": "2024-01-26T10:24:58.395535600Z",
     "start_time": "2024-01-26T10:24:57.667082600Z"
    }
   },
   "id": "c6c101f3d89d6cc0",
   "execution_count": 40
  },
  {
   "cell_type": "code",
   "outputs": [
    {
     "name": "stdout",
     "output_type": "stream",
     "text": [
      "<class 'pandas.core.frame.DataFrame'>\n",
      "Index: 63622 entries, 0 to 175783\n",
      "Data columns (total 8 columns):\n",
      " #   Column                   Non-Null Count  Dtype  \n",
      "---  ------                   --------------  -----  \n",
      " 0   CategoryV7               63622 non-null  float64\n",
      " 1   remarks_text             53566 non-null  object \n",
      " 2   subject_content_text     63622 non-null  object \n",
      " 3   root_category_name       63622 non-null  object \n",
      " 4   root_category_code       63622 non-null  float64\n",
      " 5   total_no_of_stages       63622 non-null  int64  \n",
      " 6   hierarchy_order          63622 non-null  object \n",
      " 7   category_hierarchy_code  63622 non-null  object \n",
      "dtypes: float64(2), int64(1), object(5)\n",
      "memory usage: 6.4+ MB\n"
     ]
    }
   ],
   "source": [
    "data = pd.read_csv('dataset/Complaint Category.csv')\n",
    "\n",
    "def find_root_node_with_descriptions(data, code):\n",
    "    try:\n",
    "        current_code = code\n",
    "        row = data[data['Code'] == current_code].iloc[0]\n",
    "        hierarchy = [f\"{row['Description']}\"]\n",
    "        hierarchy_code_array = [row['Code']]\n",
    "        total_stages = 0\n",
    "\n",
    "        while not pd.isna(row['Parent']):\n",
    "            current_code = row['Parent']\n",
    "            row = data[data['Code'] == current_code].iloc[0]\n",
    "            # Insert at the beginning to maintain order from root to given code\n",
    "            hierarchy.insert(0, f\"{row['Description']}\")\n",
    "            hierarchy_code_array.insert(0, row['Code'])  # Insert at the beginning to maintain order from root\n",
    "            total_stages += 1\n",
    "\n",
    "        return row['Code'], total_stages + 1, hierarchy, hierarchy_code_array\n",
    "    except Exception as e:\n",
    "        return None, None, [], [], f\"Error: {e}\"\n",
    "\n",
    "def add_hierarchy_info(row, data):\n",
    "    root_code, total_stages, hierarchy, hierarchy_code_array = find_root_node_with_descriptions(data, row['CategoryV7'])\n",
    "    row['total_no_of_stages'] = total_stages\n",
    "    row['hierarchy_order'] = hierarchy\n",
    "    row['category_hierarchy_code'] = hierarchy_code_array\n",
    "    return row\n",
    "\n",
    "new_df = new_dataset.apply(lambda row: add_hierarchy_info(row, data), axis=1)\n",
    "new_df.info()"
   ],
   "metadata": {
    "collapsed": false,
    "ExecuteTime": {
     "end_time": "2024-01-26T10:39:30.613996200Z",
     "start_time": "2024-01-26T10:37:34.935921600Z"
    }
   },
   "id": "40b09d8565d484b",
   "execution_count": 52
  },
  {
   "cell_type": "code",
   "outputs": [
    {
     "data": {
      "text/plain": "    CategoryV7                                       remarks_text  \\\n0      11578.0    As per railway record,  there is no authoriz...   \n2       2369.0   Sir/Madam, With reference to Grievance no. XO...   \n3       2379.0   Please submit establishment clarification let...   \n6      20493.0   Son is eligible for dependent CSD Smart Card ...   \n7       5270.0   S.P/kkLR.No.P3//22 Dated 04.01.2023 மனுதாரர் ...   \n8       1441.0  As per the HCI, Wellington, the service sough ...   \n9       5073.0   ग्रामीण सड़क राज्य सरकार का विषय है और राज्य ...   \n10        60.0   The reply of 6 numbers of PG cases by Shri Ra...   \n12      4789.0                                                NaN   \n13     11142.0   Grievance letter forwarded to Panchayati Raj ...   \n\n                                 subject_content_text  \\\n0   Railways, ( Railway Board) >> Miscellaneous\\r\\...   \n2   Labour and Employment >> PF Withdrawal >> Othe...   \n3   Labour and Employment >> Pension >> Others\\r\\n...   \n6   Defence >> Canteen Stores Depot related >> Non...   \n7   Justice >> Others\\r\\n-----------------------\\r...   \n8   External Affairs >> Others\\r\\n----------------...   \n9   Rural Development >> Pradhan Mantri Gram Sadak...   \n10  Telecommunications >> Suggestions >> Others\\r\\...   \n12  Home Affairs >> Award Related/Other National i...   \n13  Panchayati Raj >> Panchayat Development Relate...   \n\n            root_category_name  root_category_code  total_no_of_stages  \\\n0                      Railway              2565.0                   2   \n2        Labour and Employment              2173.0                   3   \n3        Labour and Employment              2173.0                   3   \n6        Department of Defence              6300.0                   3   \n7        Department of Justice              5256.0                   2   \n8             External Affairs              1221.0                   2   \n9            Rural Development              4976.0                   4   \n10          Telecommunications                 1.0                   3   \n12                Home Affairs              4742.0                   3   \n13  Ministry of Panchayati Raj             10144.0                   4   \n\n                                      hierarchy_order  \\\n0                            [Railway, Miscellaneous]   \n2      [Labour and Employment, PF Withdrawal, Others]   \n3            [Labour and Employment, Pension, Others]   \n6   [Department of Defence, Canteen Stores Depot r...   \n7                     [Department of Justice, Others]   \n8                          [External Affairs, Others]   \n9   [Rural Development, Pradhan Mantri Gram Sadak ...   \n10          [Telecommunications, Suggestions, Others]   \n12  [Home Affairs, Award Related/Other National is...   \n13  [Ministry of Panchayati Raj, Panchayat Develop...   \n\n         category_hierarchy_code  \n0                  [2565, 11578]  \n2             [2173, 2343, 2369]  \n3             [2173, 2344, 2379]  \n6            [6300, 6304, 20493]  \n7                   [5256, 5270]  \n8                   [1221, 1441]  \n9       [4976, 5068, 5069, 5073]  \n10                    [1, 9, 60]  \n12            [4742, 4744, 4789]  \n13  [10144, 10703, 10705, 11142]  ",
      "text/html": "<div>\n<style scoped>\n    .dataframe tbody tr th:only-of-type {\n        vertical-align: middle;\n    }\n\n    .dataframe tbody tr th {\n        vertical-align: top;\n    }\n\n    .dataframe thead th {\n        text-align: right;\n    }\n</style>\n<table border=\"1\" class=\"dataframe\">\n  <thead>\n    <tr style=\"text-align: right;\">\n      <th></th>\n      <th>CategoryV7</th>\n      <th>remarks_text</th>\n      <th>subject_content_text</th>\n      <th>root_category_name</th>\n      <th>root_category_code</th>\n      <th>total_no_of_stages</th>\n      <th>hierarchy_order</th>\n      <th>category_hierarchy_code</th>\n    </tr>\n  </thead>\n  <tbody>\n    <tr>\n      <th>0</th>\n      <td>11578.0</td>\n      <td>As per railway record,  there is no authoriz...</td>\n      <td>Railways, ( Railway Board) &gt;&gt; Miscellaneous\\r\\...</td>\n      <td>Railway</td>\n      <td>2565.0</td>\n      <td>2</td>\n      <td>[Railway, Miscellaneous]</td>\n      <td>[2565, 11578]</td>\n    </tr>\n    <tr>\n      <th>2</th>\n      <td>2369.0</td>\n      <td>Sir/Madam, With reference to Grievance no. XO...</td>\n      <td>Labour and Employment &gt;&gt; PF Withdrawal &gt;&gt; Othe...</td>\n      <td>Labour and Employment</td>\n      <td>2173.0</td>\n      <td>3</td>\n      <td>[Labour and Employment, PF Withdrawal, Others]</td>\n      <td>[2173, 2343, 2369]</td>\n    </tr>\n    <tr>\n      <th>3</th>\n      <td>2379.0</td>\n      <td>Please submit establishment clarification let...</td>\n      <td>Labour and Employment &gt;&gt; Pension &gt;&gt; Others\\r\\n...</td>\n      <td>Labour and Employment</td>\n      <td>2173.0</td>\n      <td>3</td>\n      <td>[Labour and Employment, Pension, Others]</td>\n      <td>[2173, 2344, 2379]</td>\n    </tr>\n    <tr>\n      <th>6</th>\n      <td>20493.0</td>\n      <td>Son is eligible for dependent CSD Smart Card ...</td>\n      <td>Defence &gt;&gt; Canteen Stores Depot related &gt;&gt; Non...</td>\n      <td>Department of Defence</td>\n      <td>6300.0</td>\n      <td>3</td>\n      <td>[Department of Defence, Canteen Stores Depot r...</td>\n      <td>[6300, 6304, 20493]</td>\n    </tr>\n    <tr>\n      <th>7</th>\n      <td>5270.0</td>\n      <td>S.P/kkLR.No.P3//22 Dated 04.01.2023 மனுதாரர் ...</td>\n      <td>Justice &gt;&gt; Others\\r\\n-----------------------\\r...</td>\n      <td>Department of Justice</td>\n      <td>5256.0</td>\n      <td>2</td>\n      <td>[Department of Justice, Others]</td>\n      <td>[5256, 5270]</td>\n    </tr>\n    <tr>\n      <th>8</th>\n      <td>1441.0</td>\n      <td>As per the HCI, Wellington, the service sough ...</td>\n      <td>External Affairs &gt;&gt; Others\\r\\n----------------...</td>\n      <td>External Affairs</td>\n      <td>1221.0</td>\n      <td>2</td>\n      <td>[External Affairs, Others]</td>\n      <td>[1221, 1441]</td>\n    </tr>\n    <tr>\n      <th>9</th>\n      <td>5073.0</td>\n      <td>ग्रामीण सड़क राज्य सरकार का विषय है और राज्य ...</td>\n      <td>Rural Development &gt;&gt; Pradhan Mantri Gram Sadak...</td>\n      <td>Rural Development</td>\n      <td>4976.0</td>\n      <td>4</td>\n      <td>[Rural Development, Pradhan Mantri Gram Sadak ...</td>\n      <td>[4976, 5068, 5069, 5073]</td>\n    </tr>\n    <tr>\n      <th>10</th>\n      <td>60.0</td>\n      <td>The reply of 6 numbers of PG cases by Shri Ra...</td>\n      <td>Telecommunications &gt;&gt; Suggestions &gt;&gt; Others\\r\\...</td>\n      <td>Telecommunications</td>\n      <td>1.0</td>\n      <td>3</td>\n      <td>[Telecommunications, Suggestions, Others]</td>\n      <td>[1, 9, 60]</td>\n    </tr>\n    <tr>\n      <th>12</th>\n      <td>4789.0</td>\n      <td>NaN</td>\n      <td>Home Affairs &gt;&gt; Award Related/Other National i...</td>\n      <td>Home Affairs</td>\n      <td>4742.0</td>\n      <td>3</td>\n      <td>[Home Affairs, Award Related/Other National is...</td>\n      <td>[4742, 4744, 4789]</td>\n    </tr>\n    <tr>\n      <th>13</th>\n      <td>11142.0</td>\n      <td>Grievance letter forwarded to Panchayati Raj ...</td>\n      <td>Panchayati Raj &gt;&gt; Panchayat Development Relate...</td>\n      <td>Ministry of Panchayati Raj</td>\n      <td>10144.0</td>\n      <td>4</td>\n      <td>[Ministry of Panchayati Raj, Panchayat Develop...</td>\n      <td>[10144, 10703, 10705, 11142]</td>\n    </tr>\n  </tbody>\n</table>\n</div>"
     },
     "execution_count": 55,
     "metadata": {},
     "output_type": "execute_result"
    }
   ],
   "source": [
    "new_df.head(10)"
   ],
   "metadata": {
    "collapsed": false,
    "ExecuteTime": {
     "end_time": "2024-01-26T10:59:34.652558Z",
     "start_time": "2024-01-26T10:59:34.641500200Z"
    }
   },
   "id": "e84a646274caf143",
   "execution_count": 55
  }
 ],
 "metadata": {
  "kernelspec": {
   "display_name": "Python 3",
   "language": "python",
   "name": "python3"
  },
  "language_info": {
   "codemirror_mode": {
    "name": "ipython",
    "version": 2
   },
   "file_extension": ".py",
   "mimetype": "text/x-python",
   "name": "python",
   "nbconvert_exporter": "python",
   "pygments_lexer": "ipython2",
   "version": "2.7.6"
  }
 },
 "nbformat": 4,
 "nbformat_minor": 5
}
